{
 "cells": [
  {
   "cell_type": "markdown",
   "metadata": {},
   "source": [
    "<center>\n",
    "    <img src=\"https://cf-courses-data.s3.us.cloud-object-storage.appdomain.cloud/IBMDeveloperSkillsNetwork-DS0105EN-SkillsNetwork/labs/Module2/images/SN_web_lightmode.png\" width=\"300\" alt=\"cognitiveclass.ai logo\">\n",
    "</center>\n"
   ]
  },
  {
   "cell_type": "markdown",
   "metadata": {},
   "source": [
    "#### Add your code below following the instructions given in the course\n"
   ]
  },
  {
   "cell_type": "markdown",
   "metadata": {},
   "source": [
    "## Tools for Data Science Project"
   ]
  },
  {
   "cell_type": "markdown",
   "metadata": {},
   "source": [
    "> This project is about what i learned in Section : Tools for Data Science in DS IBM Course"
   ]
  },
  {
   "cell_type": "markdown",
   "metadata": {},
   "source": [
    "> List data science languages :\n",
    "> - Python\n",
    "> - R\n",
    "> - Julia\n",
    "> - SQL\n",
    "> - Java\n",
    "> - Scala\n",
    "> - C/C++\n",
    "> ..."
   ]
  },
  {
   "cell_type": "markdown",
   "metadata": {},
   "source": [
    "> List data science libraries :\n",
    "> - TensorFlow\n",
    "> - NumPy\n",
    "> - SciPy \n",
    "> - Pandas\n",
    "> - Matplotlib \n",
    "> - Keras\n",
    "> - SciKit-Learn\n",
    "> - PyTorch"
   ]
  },
  {
   "cell_type": "markdown",
   "metadata": {},
   "source": [
    "> Table of Data Science Tools :\n",
    "> - Jupyter Notebook\n",
    "> - Apache Spark\n",
    "> - IBM SPSS\n",
    "> - IBM SAS\n",
    "> - Watson Studio\n",
    "> - Auto AI\n",
    "> - Matlab\n",
    "> - ...\n"
   ]
  },
  {
   "cell_type": "markdown",
   "metadata": {},
   "source": [
    "> There are 1 example of arithmetic expression : `(2+3)**2 = 2**2 + 2*2*3 + 3**2`"
   ]
  },
  {
   "cell_type": "code",
   "execution_count": 4,
   "metadata": {},
   "outputs": [
    {
     "data": {
      "text/plain": [
       "60"
      ]
     },
     "execution_count": 4,
     "metadata": {},
     "output_type": "execute_result"
    }
   ],
   "source": [
    "# Create a code cell to multiply numbers\n",
    "3*4*5"
   ]
  },
  {
   "cell_type": "code",
   "execution_count": 3,
   "metadata": {},
   "outputs": [
    {
     "data": {
      "text/plain": [
       "12"
      ]
     },
     "execution_count": 3,
     "metadata": {},
     "output_type": "execute_result"
    }
   ],
   "source": [
    "# Create a code cell to add umbers.\n",
    "3 + 4 + 5"
   ]
  },
  {
   "cell_type": "code",
   "execution_count": 6,
   "metadata": {},
   "outputs": [
    {
     "data": {
      "text/plain": [
       "2.5"
      ]
     },
     "execution_count": 6,
     "metadata": {},
     "output_type": "execute_result"
    }
   ],
   "source": [
    "# Create a code cell to convert minutes to hours\n",
    "def convert_minutes_to_hours (minutes) :\n",
    "    return float(minutes/60)\n",
    "convert_minutes_to_hours(150)"
   ]
  },
  {
   "cell_type": "code",
   "execution_count": 7,
   "metadata": {},
   "outputs": [],
   "source": [
    "A = [\"One\", \"Two\", \"Three\", \"Four\", \"Five\"]"
   ]
  },
  {
   "cell_type": "markdown",
   "metadata": {},
   "source": [
    "\n",
    "List `A` is list of number between 1 to 5 in the alphabet : \n",
    "   1.  One\n",
    "   2. Two\n",
    "   3. Three\n",
    "   4. Four\n",
    "   5. Five\n"
   ]
  },
  {
   "cell_type": "markdown",
   "metadata": {},
   "source": [
    "\"authors\": [\n",
    "  { \"name\": \"Author1\" },\n",
    "  { \"name\": \"Author2\" }\n",
    "]"
   ]
  },
  {
   "cell_type": "markdown",
   "metadata": {},
   "source": [
    "> Author : Do Anh Dzung\n",
    "\n",
    "\n",
    "> Thank for reading "
   ]
  },
  {
   "cell_type": "code",
   "execution_count": null,
   "metadata": {},
   "outputs": [],
   "source": []
  }
 ],
 "metadata": {
  "kernelspec": {
   "display_name": "Python",
   "language": "python",
   "name": "conda-env-python-py"
  },
  "language_info": {
   "codemirror_mode": {
    "name": "ipython",
    "version": 3
   },
   "file_extension": ".py",
   "mimetype": "text/x-python",
   "name": "python",
   "nbconvert_exporter": "python",
   "pygments_lexer": "ipython3",
   "version": "3.7.12"
  }
 },
 "nbformat": 4,
 "nbformat_minor": 4
}
